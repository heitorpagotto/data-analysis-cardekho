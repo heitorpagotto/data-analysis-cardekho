{
 "cells": [
  {
   "cell_type": "markdown",
   "id": "dd5fbeb34b72a018",
   "metadata": {},
   "source": [
    "### Análise gráfica de quantidade de Carros por tipo de combustível"
   ]
  },
  {
   "cell_type": "code",
   "execution_count": null,
   "id": "initial_id",
   "metadata": {
    "collapsed": true,
    "jupyter": {
     "is_executing": true,
     "outputs_hidden": true
    }
   },
   "outputs": [],
   "source": [
    "# Importando o pandas\n",
    "import pandas as pd\n",
    "\n",
    "# Importando a base cardekho\n",
    "cars = pd.read_csv('cardekho.csv')\n",
    "\n",
    "fuelValue = cars.fuel.value_counts()\n",
    "fuelValue.plot.bar()"
   ]
  },
  {
   "cell_type": "markdown",
   "id": "5919a773a636c473",
   "metadata": {},
   "source": [
    "### Análise gráfica de quantidade de Carros por tipo de câmbio"
   ]
  },
  {
   "cell_type": "code",
   "execution_count": 1,
   "id": "d4eb5931a19693b0",
   "metadata": {},
   "outputs": [
    {
     "data": {
      "text/plain": [
       "<Axes: xlabel='transmission'>"
      ]
     },
     "execution_count": 1,
     "metadata": {},
     "output_type": "execute_result"
    },
    {
     "data": {
      "image/png": "[encoded data removed]",
      "text/plain": [
       "<Figure size 640x480 with 1 Axes>"
      ]
     },
     "metadata": {},
     "output_type": "display_data"
    }
   ],
   "source": [
    "# Importando o pandas\n",
    "import pandas as pd\n",
    "\n",
    "# Importando a base cardekho\n",
    "cars = pd.read_csv('cardekho.csv')\n",
    "\n",
    "fuelValue = cars.transmission.value_counts()\n",
    "fuelValue.plot.bar()"
   ]
  },
  {
   "metadata": {},
   "cell_type": "markdown",
   "source": "### Análise gráfica de donos do carro",
   "id": "4b294061ca10b3e9"
  },
  {
   "cell_type": "code",
   "execution_count": null,
   "id": "c919e784-b4c4-4252-82e4-1a38d256d2fd",
   "metadata": {},
   "outputs": [],
   "source": [
    "# Importando o pandas\n",
    "import pandas as pd\n",
    "\n",
    "# Importando a base cardekho\n",
    "cars = pd.read_csv('cardekho.csv')\n",
    "\n",
    "fuelValue = cars.owner.value_counts()\n",
    "fuelValue.plot.bar()"
   ]
  },
  {
   "metadata": {},
   "cell_type": "markdown",
   "source": "### Análise gráfica de tipos de vendedor",
   "id": "6df03a3984f3a52c"
  },
  {
   "metadata": {},
   "cell_type": "code",
   "outputs": [],
   "execution_count": null,
   "source": [
    "# Importando o pandas\n",
    "import pandas as pd\n",
    "\n",
    "# Importando a base cardekho\n",
    "cars = pd.read_csv('cardekho.csv')\n",
    "\n",
    "fuelValue = cars.seller_type.value_counts()\n",
    "fuelValue.plot.bar()"
   ],
   "id": "89624969f6186a96"
  },
  {
   "metadata": {},
   "cell_type": "markdown",
   "source": "### Análise de preço agrupado por ano",
   "id": "e9b3d6a1b38c31ae"
  },
  {
   "metadata": {},
   "cell_type": "code",
   "outputs": [],
   "execution_count": null,
   "source": [
    "# Importando o pandas\n",
    "import pandas as pd\n",
    "\n",
    "# Importando a base cardekho\n",
    "cars = pd.read_csv('cardekho.csv')\n",
    "\n",
    "cars.groupby('year')['selling_price'].max().sort_values(ascending=False)"
   ],
   "id": "e5971e1f03f94567"
  },
  {
   "metadata": {},
   "cell_type": "markdown",
   "source": "### Análise de menor quantidade de KMs rodados (Top 50)",
   "id": "ba147304cb9b98a9"
  },
  {
   "metadata": {},
   "cell_type": "code",
   "outputs": [],
   "execution_count": null,
   "source": [
    "# Importando o pandas\n",
    "import pandas as pd\n",
    "\n",
    "# Importando a base cardekho\n",
    "cars = pd.read_csv('cardekho.csv')\n",
    "\n",
    "cars.groupby('name')['km_driven'].min().sort_values(ascending=True).head(50)"
   ],
   "id": "b359255edc154818"
  },
  {
   "metadata": {},
   "cell_type": "markdown",
   "source": "### Análise gráfica por quantidade de bancos",
   "id": "13d0ce630d97727c"
  },
  {
   "metadata": {},
   "cell_type": "code",
   "outputs": [],
   "execution_count": null,
   "source": [
    "# Importando o pandas\n",
    "import pandas as pd\n",
    "\n",
    "# Importando a base cardekho\n",
    "cars = pd.read_csv('cardekho.csv')\n",
    "\n",
    "fuelValue = cars.seats.value_counts()\n",
    "fuelValue.plot.bar()"
   ],
   "id": "d2216b8ca8c5512c"
  }
 ],
 "metadata": {
  "kernelspec": {
   "display_name": "Python 3 (ipykernel)",
   "language": "python",
   "name": "python3"
  },
  "language_info": {
   "codemirror_mode": {
    "name": "ipython",
    "version": 3
   },
   "file_extension": ".py",
   "mimetype": "text/x-python",
   "name": "python",
   "nbconvert_exporter": "python",
   "pygments_lexer": "ipython3",
   "version": "3.12.3"
  }
 },
 "nbformat": 4,
 "nbformat_minor": 5
}
